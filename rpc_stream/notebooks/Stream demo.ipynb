{
 "metadata": {
  "name": "",
  "signature": "sha256:f919f1c33a0009612670ffbfe792baaec0907d83257a1a2fb93c05f0a6078ec9"
 },
 "nbformat": 3,
 "nbformat_minor": 0,
 "worksheets": [
  {
   "cells": [
    {
     "cell_type": "code",
     "collapsed": false,
     "input": [
      "import sys\n",
      "\n",
      "sys.path.insert(0, '../..')\n",
      "import base_node_rpc as bn\n",
      "import rpc_stream as rs\n",
      "import pandas as pd\n",
      "from IPython.display import display"
     ],
     "language": "python",
     "metadata": {},
     "outputs": [],
     "prompt_number": 1
    },
    {
     "cell_type": "heading",
     "level": 2,
     "metadata": {},
     "source": [
      "Connect to serial device"
     ]
    },
    {
     "cell_type": "code",
     "collapsed": false,
     "input": [
      "proxy = bn.proxy.connect(rs.Proxy, name='rpc_stream')\n",
      "print 'Connected to device on port:', proxy._serial.port\n",
      "proxy.properties()"
     ],
     "language": "python",
     "metadata": {},
     "outputs": [
      {
       "output_type": "stream",
       "stream": "stdout",
       "text": [
        "Connected to device on port: /dev/ttyUSB0\n"
       ]
      },
      {
       "metadata": {},
       "output_type": "pyout",
       "prompt_number": 2,
       "text": [
        "base_node_software_version                                                 0.11\n",
        "name                                                                 rpc_stream\n",
        "manufacturer                                                        Wheeler Lab\n",
        "url                           http://github.com/wheeler-microfluidics/rpc-st...\n",
        "software_version                                                            0.1\n",
        "dtype: object"
       ]
      }
     ],
     "prompt_number": 2
    },
    {
     "cell_type": "heading",
     "level": 2,
     "metadata": {},
     "source": [
      "Send 4 echo requests, each triggering 2 stream packets"
     ]
    },
    {
     "cell_type": "markdown",
     "metadata": {},
     "source": [
      "Note that stream responses are processed automatically in the background, and added\n",
      "to a `stream` queue."
     ]
    },
    {
     "cell_type": "code",
     "collapsed": false,
     "input": [
      "for i in range(4):\n",
      "    proxy.stream_echo('hello %s' % i, 2)"
     ],
     "language": "python",
     "metadata": {},
     "outputs": [],
     "prompt_number": 3
    },
    {
     "cell_type": "heading",
     "level": 2,
     "metadata": {},
     "source": [
      "Display info for packets found in `stream` queue"
     ]
    },
    {
     "cell_type": "code",
     "collapsed": false,
     "input": [
      "packets = [list(proxy.queues.stream.get()) for i in xrange(proxy.queues.stream.qsize())]\n",
      "if packets:\n",
      "    df_packets = pd.DataFrame(packets, columns=['timestamp', 'packet'])\n",
      "    df_packets['iuid'] = df_packets.packet.map(lambda p: p.iuid)\n",
      "    df_packets['data'] = df_packets.packet.map(lambda p: p.data())\n",
      "    display(df_packets)\n",
      "#     display(df_packets.groupby('iuid').agg({'data': lambda v: ''.join(v)}))"
     ],
     "language": "python",
     "metadata": {},
     "outputs": [
      {
       "html": [
        "<div style=\"max-height:1000px;max-width:1500px;overflow:auto;\">\n",
        "<table border=\"1\" class=\"dataframe\">\n",
        "  <thead>\n",
        "    <tr style=\"text-align: right;\">\n",
        "      <th></th>\n",
        "      <th>timestamp</th>\n",
        "      <th>packet</th>\n",
        "      <th>iuid</th>\n",
        "      <th>data</th>\n",
        "    </tr>\n",
        "  </thead>\n",
        "  <tbody>\n",
        "    <tr>\n",
        "      <th>0</th>\n",
        "      <td>2015-08-13 10:40:29.709390</td>\n",
        "      <td> |||\u0006\ufffds\u0000\u0007hello 0\ufffdD</td>\n",
        "      <td> 1717</td>\n",
        "      <td> hello 0</td>\n",
        "    </tr>\n",
        "    <tr>\n",
        "      <th>1</th>\n",
        "      <td>2015-08-13 10:40:29.711371</td>\n",
        "      <td> |||\u0006\ufffds\u0000\u0007hello 0\ufffdD</td>\n",
        "      <td> 1717</td>\n",
        "      <td> hello 0</td>\n",
        "    </tr>\n",
        "    <tr>\n",
        "      <th>2</th>\n",
        "      <td>2015-08-13 10:40:29.719463</td>\n",
        "      <td> |||\u0006\ufffds\u0000\u0007hello 1c\ufffd</td>\n",
        "      <td> 1718</td>\n",
        "      <td> hello 1</td>\n",
        "    </tr>\n",
        "    <tr>\n",
        "      <th>3</th>\n",
        "      <td>2015-08-13 10:40:29.720216</td>\n",
        "      <td> |||\u0006\ufffds\u0000\u0007hello 1c\ufffd</td>\n",
        "      <td> 1718</td>\n",
        "      <td> hello 1</td>\n",
        "    </tr>\n",
        "    <tr>\n",
        "      <th>4</th>\n",
        "      <td>2015-08-13 10:40:29.727225</td>\n",
        "      <td> |||\u0006\ufffds\u0000\u0007hello 2b\ufffd</td>\n",
        "      <td> 1719</td>\n",
        "      <td> hello 2</td>\n",
        "    </tr>\n",
        "    <tr>\n",
        "      <th>5</th>\n",
        "      <td>2015-08-13 10:40:29.728236</td>\n",
        "      <td> |||\u0006\ufffds\u0000\u0007hello 2b\ufffd</td>\n",
        "      <td> 1719</td>\n",
        "      <td> hello 2</td>\n",
        "    </tr>\n",
        "    <tr>\n",
        "      <th>6</th>\n",
        "      <td>2015-08-13 10:40:29.735196</td>\n",
        "      <td> |||\u0006\ufffds\u0000\u0007hello 3\ufffd\u0004</td>\n",
        "      <td> 1720</td>\n",
        "      <td> hello 3</td>\n",
        "    </tr>\n",
        "    <tr>\n",
        "      <th>7</th>\n",
        "      <td>2015-08-13 10:40:29.736219</td>\n",
        "      <td> |||\u0006\ufffds\u0000\u0007hello 3\ufffd\u0004</td>\n",
        "      <td> 1720</td>\n",
        "      <td> hello 3</td>\n",
        "    </tr>\n",
        "  </tbody>\n",
        "</table>\n",
        "</div>"
       ],
       "metadata": {},
       "output_type": "display_data",
       "text": [
        "                   timestamp             packet  iuid     data\n",
        "0 2015-08-13 10:40:29.709390  |||\u0006\ufffds\u0000\u0007hello 0\ufffdD  1717  hello 0\n",
        "1 2015-08-13 10:40:29.711371  |||\u0006\ufffds\u0000\u0007hello 0\ufffdD  1717  hello 0\n",
        "2 2015-08-13 10:40:29.719463  |||\u0006\ufffds\u0000\u0007hello 1c\ufffd  1718  hello 1\n",
        "3 2015-08-13 10:40:29.720216  |||\u0006\ufffds\u0000\u0007hello 1c\ufffd  1718  hello 1\n",
        "4 2015-08-13 10:40:29.727225  |||\u0006\ufffds\u0000\u0007hello 2b\ufffd  1719  hello 2\n",
        "5 2015-08-13 10:40:29.728236  |||\u0006\ufffds\u0000\u0007hello 2b\ufffd  1719  hello 2\n",
        "6 2015-08-13 10:40:29.735196  |||\u0006\ufffds\u0000\u0007hello 3\ufffd\u0004  1720  hello 3\n",
        "7 2015-08-13 10:40:29.736219  |||\u0006\ufffds\u0000\u0007hello 3\ufffd\u0004  1720  hello 3"
       ]
      }
     ],
     "prompt_number": 4
    }
   ],
   "metadata": {}
  }
 ]
}